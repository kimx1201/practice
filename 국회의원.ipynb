{
 "cells": [
  {
   "cell_type": "code",
   "execution_count": 1,
   "metadata": {},
   "outputs": [
    {
     "name": "stdout",
     "output_type": "stream",
     "text": [
      "Requirement already up-to-date: seaborn in c:\\users\\ilove\\anaconda3\\lib\\site-packages (0.11.0)\n",
      "Requirement already satisfied, skipping upgrade: scipy>=1.0 in c:\\users\\ilove\\anaconda3\\lib\\site-packages (from seaborn) (1.5.0)\n",
      "Requirement already satisfied, skipping upgrade: matplotlib>=2.2 in c:\\users\\ilove\\anaconda3\\lib\\site-packages (from seaborn) (3.3.1)\n",
      "Requirement already satisfied, skipping upgrade: numpy>=1.15 in c:\\users\\ilove\\anaconda3\\lib\\site-packages (from seaborn) (1.18.5)\n",
      "Requirement already satisfied, skipping upgrade: pandas>=0.23 in c:\\users\\ilove\\anaconda3\\lib\\site-packages (from seaborn) (1.1.3)\n",
      "Requirement already satisfied, skipping upgrade: pillow>=6.2.0 in c:\\users\\ilove\\anaconda3\\lib\\site-packages (from matplotlib>=2.2->seaborn) (7.2.0)\n",
      "Requirement already satisfied, skipping upgrade: python-dateutil>=2.1 in c:\\users\\ilove\\anaconda3\\lib\\site-packages (from matplotlib>=2.2->seaborn) (2.8.1)\n",
      "Requirement already satisfied, skipping upgrade: cycler>=0.10 in c:\\users\\ilove\\anaconda3\\lib\\site-packages (from matplotlib>=2.2->seaborn) (0.10.0)\n",
      "Requirement already satisfied, skipping upgrade: kiwisolver>=1.0.1 in c:\\users\\ilove\\anaconda3\\lib\\site-packages (from matplotlib>=2.2->seaborn) (1.2.0)\n",
      "Requirement already satisfied, skipping upgrade: pyparsing!=2.0.4,!=2.1.2,!=2.1.6,>=2.0.3 in c:\\users\\ilove\\anaconda3\\lib\\site-packages (from matplotlib>=2.2->seaborn) (2.4.7)\n",
      "Requirement already satisfied, skipping upgrade: certifi>=2020.06.20 in c:\\users\\ilove\\anaconda3\\lib\\site-packages (from matplotlib>=2.2->seaborn) (2020.6.20)\n",
      "Requirement already satisfied, skipping upgrade: pytz>=2017.2 in c:\\users\\ilove\\anaconda3\\lib\\site-packages (from pandas>=0.23->seaborn) (2020.1)\n",
      "Requirement already satisfied, skipping upgrade: six>=1.5 in c:\\users\\ilove\\anaconda3\\lib\\site-packages (from python-dateutil>=2.1->matplotlib>=2.2->seaborn) (1.15.0)\n"
     ]
    }
   ],
   "source": [
    "import numpy as np\n",
    "import pandas as pd\n",
    "\n",
    "#visualization\n",
    "import matplotlib.pyplot as plt\n",
    "!pip install seaborn --upgrade\n",
    "import seaborn as sns\n",
    "import matplotlib as mpl\n",
    "import numpy as np\n",
    "from wordcloud import WordCloud, STOPWORDS, ImageColorGenerator\n",
    "\n",
    "#한글 폰트 설정\n",
    "import matplotlib.font_manager as fm\n",
    "plt.rcParams['axes.unicode_minus'] = False\n",
    "font_path = '../input/font-nanumgothic/NanumGothic.ttf'\n",
    "#ticks에 적용될 한글 폰트\n",
    "font_ticks = fm.FontProperties(fname=font_path, size=10)\n",
    "#title에 적용될 한글 폰트\n",
    "font_title = fm.FontProperties(fname=font_path, size=13)\n",
    "\n",
    "\n",
    "import warnings\n",
    "warnings.filterwarnings('ignore')"
   ]
  },
  {
   "cell_type": "code",
   "execution_count": 2,
   "metadata": {},
   "outputs": [],
   "source": [
    "import csv\n",
    "people_raw = pd.read_csv('new_people.csv', encoding='cp949')\n",
    "process_raw = pd.read_csv('process.csv')\n",
    "suggest_raw = pd.read_csv('suggest.csv')"
   ]
  },
  {
   "cell_type": "code",
   "execution_count": 3,
   "metadata": {},
   "outputs": [
    {
     "name": "stdout",
     "output_type": "stream",
     "text": [
      "(5605, 16)\n",
      "(68530, 28)\n",
      "(62658, 12)\n"
     ]
    }
   ],
   "source": [
    "print(people_raw.shape)\n",
    "print(process_raw.shape)\n",
    "print(suggest_raw.shape)"
   ]
  },
  {
   "cell_type": "code",
   "execution_count": 4,
   "metadata": {},
   "outputs": [],
   "source": [
    "people = people_raw.copy()\n",
    "process = process_raw.copy()\n",
    "suggest = suggest_raw.copy()"
   ]
  },
  {
   "cell_type": "code",
   "execution_count": 5,
   "metadata": {},
   "outputs": [
    {
     "data": {
      "text/html": [
       "<div>\n",
       "<style scoped>\n",
       "    .dataframe tbody tr th:only-of-type {\n",
       "        vertical-align: middle;\n",
       "    }\n",
       "\n",
       "    .dataframe tbody tr th {\n",
       "        vertical-align: top;\n",
       "    }\n",
       "\n",
       "    .dataframe thead th {\n",
       "        text-align: right;\n",
       "    }\n",
       "</style>\n",
       "<table border=\"1\" class=\"dataframe\">\n",
       "  <thead>\n",
       "    <tr style=\"text-align: right;\">\n",
       "      <th></th>\n",
       "      <th>DAESU</th>\n",
       "      <th>DAE</th>\n",
       "      <th>DAE_NM</th>\n",
       "      <th>NAME</th>\n",
       "      <th>NAME_HAN</th>\n",
       "      <th>JA</th>\n",
       "      <th>HO</th>\n",
       "      <th>BIRTH</th>\n",
       "      <th>BON</th>\n",
       "      <th>POSI</th>\n",
       "      <th>HAK</th>\n",
       "      <th>HOBBY</th>\n",
       "      <th>BOOK</th>\n",
       "      <th>SANG</th>\n",
       "      <th>DEAD</th>\n",
       "      <th>URL</th>\n",
       "    </tr>\n",
       "  </thead>\n",
       "  <tbody>\n",
       "    <tr>\n",
       "      <th>0</th>\n",
       "      <td>21</td>\n",
       "      <td>제19대국회의원(경남 창원시성산구) 정당_66\\r\\n제21대국회의원(경남 창원시성산...</td>\n",
       "      <td>21대의원</td>\n",
       "      <td>강기윤</td>\n",
       "      <td>姜起潤</td>\n",
       "      <td>NaN</td>\n",
       "      <td>NaN</td>\n",
       "      <td>1960년 06월 04일</td>\n",
       "      <td>NaN</td>\n",
       "      <td>NaN</td>\n",
       "      <td>창원상남초등학교 \\r\\n창원남중학교\\r\\n마산공업고등학교  \\r\\n창원대학교 행정학...</td>\n",
       "      <td>NaN</td>\n",
       "      <td>NaN</td>\n",
       "      <td>NaN</td>\n",
       "      <td>년   월   일</td>\n",
       "      <td>http://www.rokps.or.kr/profile/profile_view.as...</td>\n",
       "    </tr>\n",
       "    <tr>\n",
       "      <th>1</th>\n",
       "      <td>21</td>\n",
       "      <td>제21대국회의원(대구동구을) 정당_74</td>\n",
       "      <td>21대의원</td>\n",
       "      <td>강대식</td>\n",
       "      <td>姜大植</td>\n",
       "      <td>NaN</td>\n",
       "      <td>NaN</td>\n",
       "      <td>1959년 11월 02일</td>\n",
       "      <td>NaN</td>\n",
       "      <td>NaN</td>\n",
       "      <td>경북대학교 사범대학 부속고등학교\\r\\n영남대학교 경영대학원 경영학 석사, 박사\\r\\...</td>\n",
       "      <td>NaN</td>\n",
       "      <td>NaN</td>\n",
       "      <td>NaN</td>\n",
       "      <td>년   월   일</td>\n",
       "      <td>http://www.rokps.or.kr/profile/profile_view.as...</td>\n",
       "    </tr>\n",
       "    <tr>\n",
       "      <th>2</th>\n",
       "      <td>21</td>\n",
       "      <td>제21대국회의원(경기안양시만안구) 정당_7</td>\n",
       "      <td>21대의원</td>\n",
       "      <td>강득구</td>\n",
       "      <td>姜得求</td>\n",
       "      <td>NaN</td>\n",
       "      <td>NaN</td>\n",
       "      <td>1963년 05월 27일</td>\n",
       "      <td>NaN</td>\n",
       "      <td>NaN</td>\n",
       "      <td>성균관대학교 한국철학과 학사\\r\\n연세대학교 행정대학원 정치행정리더십학 석사\\r\\n...</td>\n",
       "      <td>NaN</td>\n",
       "      <td>2015. 우산이 필요한 당신에게\\r\\n2019. 득구있다</td>\n",
       "      <td>NaN</td>\n",
       "      <td>년   월   일</td>\n",
       "      <td>http://www.rokps.or.kr/profile/profile_view.as...</td>\n",
       "    </tr>\n",
       "    <tr>\n",
       "      <th>3</th>\n",
       "      <td>21</td>\n",
       "      <td>제21대국회의원(경남진주시을) 정당_74</td>\n",
       "      <td>21대의원</td>\n",
       "      <td>강민국</td>\n",
       "      <td>姜旻局</td>\n",
       "      <td>NaN</td>\n",
       "      <td>NaN</td>\n",
       "      <td>1971년 03월 03일</td>\n",
       "      <td>NaN</td>\n",
       "      <td>NaN</td>\n",
       "      <td>경남대학교 대학원 법학과 졸업(법학박사)\\r\\n\\r\\n2004. 진주국제대학교 경찰...</td>\n",
       "      <td>NaN</td>\n",
       "      <td>NaN</td>\n",
       "      <td>NaN</td>\n",
       "      <td>년   월   일</td>\n",
       "      <td>http://www.rokps.or.kr/profile/profile_view.as...</td>\n",
       "    </tr>\n",
       "    <tr>\n",
       "      <th>4</th>\n",
       "      <td>21</td>\n",
       "      <td>제21대국회의원(비례대표) 정당_30</td>\n",
       "      <td>21대의원</td>\n",
       "      <td>강민정</td>\n",
       "      <td>姜旼姃</td>\n",
       "      <td>NaN</td>\n",
       "      <td>NaN</td>\n",
       "      <td>1961년 04월 26일</td>\n",
       "      <td>NaN</td>\n",
       "      <td>NaN</td>\n",
       "      <td>서울대학교 사범대학 역사교육과 졸업\\r\\n\\r\\n2005. 전국교직원노동조합 서울북...</td>\n",
       "      <td>NaN</td>\n",
       "      <td>2013. 교사와 학부모가 함께 읽는 주제통합수업\\r\\n2017. 혁신학교, 한국교...</td>\n",
       "      <td>NaN</td>\n",
       "      <td>년   월   일</td>\n",
       "      <td>http://www.rokps.or.kr/profile/profile_view.as...</td>\n",
       "    </tr>\n",
       "  </tbody>\n",
       "</table>\n",
       "</div>"
      ],
      "text/plain": [
       "   DAESU                                                DAE DAE_NM NAME  \\\n",
       "0     21  제19대국회의원(경남 창원시성산구) 정당_66\\r\\n제21대국회의원(경남 창원시성산...  21대의원  강기윤   \n",
       "1     21                              제21대국회의원(대구동구을) 정당_74  21대의원  강대식   \n",
       "2     21                            제21대국회의원(경기안양시만안구) 정당_7  21대의원  강득구   \n",
       "3     21                             제21대국회의원(경남진주시을) 정당_74  21대의원  강민국   \n",
       "4     21                               제21대국회의원(비례대표) 정당_30  21대의원  강민정   \n",
       "\n",
       "  NAME_HAN   JA   HO          BIRTH  BON POSI  \\\n",
       "0      姜起潤  NaN  NaN  1960년 06월 04일  NaN  NaN   \n",
       "1      姜大植  NaN  NaN  1959년 11월 02일  NaN  NaN   \n",
       "2      姜得求  NaN  NaN  1963년 05월 27일  NaN  NaN   \n",
       "3      姜旻局  NaN  NaN  1971년 03월 03일  NaN  NaN   \n",
       "4      姜旼姃  NaN  NaN  1961년 04월 26일  NaN  NaN   \n",
       "\n",
       "                                                 HAK HOBBY  \\\n",
       "0  창원상남초등학교 \\r\\n창원남중학교\\r\\n마산공업고등학교  \\r\\n창원대학교 행정학...   NaN   \n",
       "1  경북대학교 사범대학 부속고등학교\\r\\n영남대학교 경영대학원 경영학 석사, 박사\\r\\...   NaN   \n",
       "2  성균관대학교 한국철학과 학사\\r\\n연세대학교 행정대학원 정치행정리더십학 석사\\r\\n...   NaN   \n",
       "3  경남대학교 대학원 법학과 졸업(법학박사)\\r\\n\\r\\n2004. 진주국제대학교 경찰...   NaN   \n",
       "4  서울대학교 사범대학 역사교육과 졸업\\r\\n\\r\\n2005. 전국교직원노동조합 서울북...   NaN   \n",
       "\n",
       "                                                BOOK SANG           DEAD  \\\n",
       "0                                                NaN  NaN      년   월   일   \n",
       "1                                                NaN  NaN      년   월   일   \n",
       "2                   2015. 우산이 필요한 당신에게\\r\\n2019. 득구있다  NaN      년   월   일   \n",
       "3                                                NaN  NaN      년   월   일   \n",
       "4  2013. 교사와 학부모가 함께 읽는 주제통합수업\\r\\n2017. 혁신학교, 한국교...  NaN      년   월   일   \n",
       "\n",
       "                                                 URL  \n",
       "0  http://www.rokps.or.kr/profile/profile_view.as...  \n",
       "1  http://www.rokps.or.kr/profile/profile_view.as...  \n",
       "2  http://www.rokps.or.kr/profile/profile_view.as...  \n",
       "3  http://www.rokps.or.kr/profile/profile_view.as...  \n",
       "4  http://www.rokps.or.kr/profile/profile_view.as...  "
      ]
     },
     "execution_count": 5,
     "metadata": {},
     "output_type": "execute_result"
    }
   ],
   "source": [
    "people.head()"
   ]
  },
  {
   "cell_type": "code",
   "execution_count": 6,
   "metadata": {},
   "outputs": [
    {
     "data": {
      "text/html": [
       "<div>\n",
       "<style scoped>\n",
       "    .dataframe tbody tr th:only-of-type {\n",
       "        vertical-align: middle;\n",
       "    }\n",
       "\n",
       "    .dataframe tbody tr th {\n",
       "        vertical-align: top;\n",
       "    }\n",
       "\n",
       "    .dataframe thead th {\n",
       "        text-align: right;\n",
       "    }\n",
       "</style>\n",
       "<table border=\"1\" class=\"dataframe\">\n",
       "  <thead>\n",
       "    <tr style=\"text-align: right;\">\n",
       "      <th></th>\n",
       "      <th>AGE</th>\n",
       "      <th>ANNOUNCE_DT</th>\n",
       "      <th>BDG_PRESENT_DT</th>\n",
       "      <th>BDG_PROC_DT</th>\n",
       "      <th>BDG_SUBMIT_DT</th>\n",
       "      <th>BILL_ID</th>\n",
       "      <th>BILL_KIND</th>\n",
       "      <th>BILL_NAME</th>\n",
       "      <th>BILL_NO</th>\n",
       "      <th>BLANK_TCNT</th>\n",
       "      <th>...</th>\n",
       "      <th>LINK_URL</th>\n",
       "      <th>NO_TCNT</th>\n",
       "      <th>PROC_RESULT_CD</th>\n",
       "      <th>PROPOSER</th>\n",
       "      <th>PROPOSER_KIND_CD</th>\n",
       "      <th>PROPOSE_DT</th>\n",
       "      <th>RGS_PRESENT_DT</th>\n",
       "      <th>RGS_PROC_DT</th>\n",
       "      <th>VOTE_TCNT</th>\n",
       "      <th>YES_TCNT</th>\n",
       "    </tr>\n",
       "  </thead>\n",
       "  <tbody>\n",
       "    <tr>\n",
       "      <th>0</th>\n",
       "      <td>21</td>\n",
       "      <td>NaN</td>\n",
       "      <td>NaN</td>\n",
       "      <td>NaN</td>\n",
       "      <td>NaN</td>\n",
       "      <td>PRC_A2Q0T0X9B2P4F0M9N3P8K5S9I7K5N9</td>\n",
       "      <td>기타</td>\n",
       "      <td>본회의 의결을 요하는 국정감사대상기관 승인의 건(과학기술정보방송통신위원장)</td>\n",
       "      <td>2104197</td>\n",
       "      <td>NaN</td>\n",
       "      <td>...</td>\n",
       "      <td>https://likms.assembly.go.kr/bill/billDetail.d...</td>\n",
       "      <td>NaN</td>\n",
       "      <td>원안가결</td>\n",
       "      <td>과학기술정보방송통신위원장</td>\n",
       "      <td>위원장</td>\n",
       "      <td>2020-09-24</td>\n",
       "      <td>2020-09-24</td>\n",
       "      <td>2020-09-24</td>\n",
       "      <td>NaN</td>\n",
       "      <td>NaN</td>\n",
       "    </tr>\n",
       "    <tr>\n",
       "      <th>1</th>\n",
       "      <td>21</td>\n",
       "      <td>NaN</td>\n",
       "      <td>NaN</td>\n",
       "      <td>NaN</td>\n",
       "      <td>NaN</td>\n",
       "      <td>PRC_W2L0P0M9C2X4P1E3A2N6C4B7T7K5M0</td>\n",
       "      <td>기타</td>\n",
       "      <td>과학기술정보방송통신위원장(박광온) 사임의 건(박광온의원)</td>\n",
       "      <td>2104196</td>\n",
       "      <td>NaN</td>\n",
       "      <td>...</td>\n",
       "      <td>https://likms.assembly.go.kr/bill/billDetail.d...</td>\n",
       "      <td>NaN</td>\n",
       "      <td>원안가결</td>\n",
       "      <td>박광온의원</td>\n",
       "      <td>의원</td>\n",
       "      <td>2020-09-24</td>\n",
       "      <td>2020-09-24</td>\n",
       "      <td>2020-09-24</td>\n",
       "      <td>NaN</td>\n",
       "      <td>NaN</td>\n",
       "    </tr>\n",
       "    <tr>\n",
       "      <th>2</th>\n",
       "      <td>21</td>\n",
       "      <td>NaN</td>\n",
       "      <td>NaN</td>\n",
       "      <td>NaN</td>\n",
       "      <td>NaN</td>\n",
       "      <td>PRC_B2C0D0H9S2D4W1P3U3V0E2P2Y0B0R9</td>\n",
       "      <td>기타</td>\n",
       "      <td>보건복지위원장(한정애) 사임의 건(한정애의원)</td>\n",
       "      <td>2104195</td>\n",
       "      <td>NaN</td>\n",
       "      <td>...</td>\n",
       "      <td>https://likms.assembly.go.kr/bill/billDetail.d...</td>\n",
       "      <td>NaN</td>\n",
       "      <td>원안가결</td>\n",
       "      <td>한정애의원</td>\n",
       "      <td>의원</td>\n",
       "      <td>2020-09-24</td>\n",
       "      <td>2020-09-24</td>\n",
       "      <td>2020-09-24</td>\n",
       "      <td>NaN</td>\n",
       "      <td>NaN</td>\n",
       "    </tr>\n",
       "    <tr>\n",
       "      <th>3</th>\n",
       "      <td>21</td>\n",
       "      <td>NaN</td>\n",
       "      <td>NaN</td>\n",
       "      <td>NaN</td>\n",
       "      <td>NaN</td>\n",
       "      <td>PRC_O2T0Q0J9B2M3U2U0L0E0W1G5F6O7A5</td>\n",
       "      <td>기타</td>\n",
       "      <td>본회의 의결을 요하는 국정감사대상기관 승인의 건(국회운영위원장)</td>\n",
       "      <td>2104193</td>\n",
       "      <td>NaN</td>\n",
       "      <td>...</td>\n",
       "      <td>https://likms.assembly.go.kr/bill/billDetail.d...</td>\n",
       "      <td>NaN</td>\n",
       "      <td>원안가결</td>\n",
       "      <td>국회운영위원장</td>\n",
       "      <td>위원장</td>\n",
       "      <td>2020-09-24</td>\n",
       "      <td>2020-09-24</td>\n",
       "      <td>2020-09-24</td>\n",
       "      <td>NaN</td>\n",
       "      <td>NaN</td>\n",
       "    </tr>\n",
       "    <tr>\n",
       "      <th>4</th>\n",
       "      <td>21</td>\n",
       "      <td>NaN</td>\n",
       "      <td>NaN</td>\n",
       "      <td>NaN</td>\n",
       "      <td>NaN</td>\n",
       "      <td>PRC_E2O0V0L9L2C1E1Q3W0E4Y2A2W8I9P6</td>\n",
       "      <td>기타</td>\n",
       "      <td>2020년도 국정감사 정기회 기간 중 실시의 건(국회운영위원장)</td>\n",
       "      <td>2104192</td>\n",
       "      <td>NaN</td>\n",
       "      <td>...</td>\n",
       "      <td>https://likms.assembly.go.kr/bill/billDetail.d...</td>\n",
       "      <td>NaN</td>\n",
       "      <td>원안가결</td>\n",
       "      <td>국회운영위원장</td>\n",
       "      <td>위원장</td>\n",
       "      <td>2020-09-24</td>\n",
       "      <td>2020-09-24</td>\n",
       "      <td>2020-09-24</td>\n",
       "      <td>NaN</td>\n",
       "      <td>NaN</td>\n",
       "    </tr>\n",
       "  </tbody>\n",
       "</table>\n",
       "<p>5 rows × 28 columns</p>\n",
       "</div>"
      ],
      "text/plain": [
       "   AGE ANNOUNCE_DT BDG_PRESENT_DT BDG_PROC_DT BDG_SUBMIT_DT  \\\n",
       "0   21         NaN            NaN         NaN           NaN   \n",
       "1   21         NaN            NaN         NaN           NaN   \n",
       "2   21         NaN            NaN         NaN           NaN   \n",
       "3   21         NaN            NaN         NaN           NaN   \n",
       "4   21         NaN            NaN         NaN           NaN   \n",
       "\n",
       "                              BILL_ID BILL_KIND  \\\n",
       "0  PRC_A2Q0T0X9B2P4F0M9N3P8K5S9I7K5N9        기타   \n",
       "1  PRC_W2L0P0M9C2X4P1E3A2N6C4B7T7K5M0        기타   \n",
       "2  PRC_B2C0D0H9S2D4W1P3U3V0E2P2Y0B0R9        기타   \n",
       "3  PRC_O2T0Q0J9B2M3U2U0L0E0W1G5F6O7A5        기타   \n",
       "4  PRC_E2O0V0L9L2C1E1Q3W0E4Y2A2W8I9P6        기타   \n",
       "\n",
       "                                   BILL_NAME  BILL_NO  BLANK_TCNT  ...  \\\n",
       "0  본회의 의결을 요하는 국정감사대상기관 승인의 건(과학기술정보방송통신위원장)  2104197         NaN  ...   \n",
       "1            과학기술정보방송통신위원장(박광온) 사임의 건(박광온의원)  2104196         NaN  ...   \n",
       "2                  보건복지위원장(한정애) 사임의 건(한정애의원)  2104195         NaN  ...   \n",
       "3        본회의 의결을 요하는 국정감사대상기관 승인의 건(국회운영위원장)  2104193         NaN  ...   \n",
       "4        2020년도 국정감사 정기회 기간 중 실시의 건(국회운영위원장)  2104192         NaN  ...   \n",
       "\n",
       "                                            LINK_URL NO_TCNT PROC_RESULT_CD  \\\n",
       "0  https://likms.assembly.go.kr/bill/billDetail.d...     NaN           원안가결   \n",
       "1  https://likms.assembly.go.kr/bill/billDetail.d...     NaN           원안가결   \n",
       "2  https://likms.assembly.go.kr/bill/billDetail.d...     NaN           원안가결   \n",
       "3  https://likms.assembly.go.kr/bill/billDetail.d...     NaN           원안가결   \n",
       "4  https://likms.assembly.go.kr/bill/billDetail.d...     NaN           원안가결   \n",
       "\n",
       "        PROPOSER PROPOSER_KIND_CD  PROPOSE_DT RGS_PRESENT_DT RGS_PROC_DT  \\\n",
       "0  과학기술정보방송통신위원장              위원장  2020-09-24     2020-09-24  2020-09-24   \n",
       "1          박광온의원               의원  2020-09-24     2020-09-24  2020-09-24   \n",
       "2          한정애의원               의원  2020-09-24     2020-09-24  2020-09-24   \n",
       "3        국회운영위원장              위원장  2020-09-24     2020-09-24  2020-09-24   \n",
       "4        국회운영위원장              위원장  2020-09-24     2020-09-24  2020-09-24   \n",
       "\n",
       "  VOTE_TCNT  YES_TCNT  \n",
       "0       NaN       NaN  \n",
       "1       NaN       NaN  \n",
       "2       NaN       NaN  \n",
       "3       NaN       NaN  \n",
       "4       NaN       NaN  \n",
       "\n",
       "[5 rows x 28 columns]"
      ]
     },
     "execution_count": 6,
     "metadata": {},
     "output_type": "execute_result"
    }
   ],
   "source": [
    "process.head()"
   ]
  },
  {
   "cell_type": "code",
   "execution_count": 7,
   "metadata": {},
   "outputs": [
    {
     "data": {
      "text/html": [
       "<div>\n",
       "<style scoped>\n",
       "    .dataframe tbody tr th:only-of-type {\n",
       "        vertical-align: middle;\n",
       "    }\n",
       "\n",
       "    .dataframe tbody tr th {\n",
       "        vertical-align: top;\n",
       "    }\n",
       "\n",
       "    .dataframe thead th {\n",
       "        text-align: right;\n",
       "    }\n",
       "</style>\n",
       "<table border=\"1\" class=\"dataframe\">\n",
       "  <thead>\n",
       "    <tr style=\"text-align: right;\">\n",
       "      <th></th>\n",
       "      <th>BILL_ID</th>\n",
       "      <th>BILL_NO</th>\n",
       "      <th>BILL_NAME</th>\n",
       "      <th>COMMITTEE</th>\n",
       "      <th>PROPOSE_DT</th>\n",
       "      <th>PROC_RESULT</th>\n",
       "      <th>AGE</th>\n",
       "      <th>DETAIL_LINK</th>\n",
       "      <th>PROPOSER</th>\n",
       "      <th>MEMBER_LIST</th>\n",
       "      <th>RST_PROPOSER</th>\n",
       "      <th>PUBL_PROPOSER</th>\n",
       "    </tr>\n",
       "  </thead>\n",
       "  <tbody>\n",
       "    <tr>\n",
       "      <th>0</th>\n",
       "      <td>PRC_A2T0Z0E9U1I6P1G3P3X9I3B7H7D9C1</td>\n",
       "      <td>2104402</td>\n",
       "      <td>독점규제 및 공정거래에 관한 법률 일부개정법률안</td>\n",
       "      <td>NaN</td>\n",
       "      <td>2020-10-05</td>\n",
       "      <td>NaN</td>\n",
       "      <td>21</td>\n",
       "      <td>http://likms.assembly.go.kr/bill/billDetail.do...</td>\n",
       "      <td>박홍근의원등12인</td>\n",
       "      <td>http://likms.assembly.go.kr/bill/coactorListPo...</td>\n",
       "      <td>박홍근</td>\n",
       "      <td>김원이,남인순,서영석,송옥주,용혜인,윤미향,이용빈,장경태,정태호,주철현,최종윤</td>\n",
       "    </tr>\n",
       "    <tr>\n",
       "      <th>1</th>\n",
       "      <td>PRC_I2M0O1G0U0P5E1U8T4B6Z0R9M8G5X0</td>\n",
       "      <td>2104401</td>\n",
       "      <td>지방교육재정교부금법 일부개정법률안</td>\n",
       "      <td>NaN</td>\n",
       "      <td>2020-10-05</td>\n",
       "      <td>NaN</td>\n",
       "      <td>21</td>\n",
       "      <td>http://likms.assembly.go.kr/bill/billDetail.do...</td>\n",
       "      <td>서영교의원 등 10인</td>\n",
       "      <td>http://likms.assembly.go.kr/bill/coactorListPo...</td>\n",
       "      <td>서영교</td>\n",
       "      <td>김병기,서삼석,신정훈,오영환,윤재갑,이개호,이성만,전혜숙,최형두</td>\n",
       "    </tr>\n",
       "    <tr>\n",
       "      <th>2</th>\n",
       "      <td>PRC_C2Q0L1M0V0B5G1O8H1N6Z5V0W5W7A7</td>\n",
       "      <td>2104400</td>\n",
       "      <td>농업기계화 촉진법 일부개정법률안</td>\n",
       "      <td>NaN</td>\n",
       "      <td>2020-10-05</td>\n",
       "      <td>NaN</td>\n",
       "      <td>21</td>\n",
       "      <td>http://likms.assembly.go.kr/bill/billDetail.do...</td>\n",
       "      <td>윤재갑의원 등 11인</td>\n",
       "      <td>http://likms.assembly.go.kr/bill/coactorListPo...</td>\n",
       "      <td>윤재갑</td>\n",
       "      <td>강병원,김수흥,서영교,위성곤,이개호,이재정,이정문,전용기,조경태,홍문표</td>\n",
       "    </tr>\n",
       "    <tr>\n",
       "      <th>3</th>\n",
       "      <td>PRC_F2A0Q1V0F0S5O1N8W1P6L2Z9T9D6K3</td>\n",
       "      <td>2104399</td>\n",
       "      <td>지방교부세법 일부개정법률안</td>\n",
       "      <td>NaN</td>\n",
       "      <td>2020-10-05</td>\n",
       "      <td>NaN</td>\n",
       "      <td>21</td>\n",
       "      <td>http://likms.assembly.go.kr/bill/billDetail.do...</td>\n",
       "      <td>서영교의원 등 10인</td>\n",
       "      <td>http://likms.assembly.go.kr/bill/coactorListPo...</td>\n",
       "      <td>서영교</td>\n",
       "      <td>김병기,신정훈,오영환,윤재갑,윤준병,이개호,이성만,전혜숙,최형두</td>\n",
       "    </tr>\n",
       "    <tr>\n",
       "      <th>4</th>\n",
       "      <td>PRC_C2N0L1B0M0O5S1P8T0O6I1O8S4J8O7</td>\n",
       "      <td>2104398</td>\n",
       "      <td>농수산물의 원산지 표시에 관한 법률 일부개정법률안</td>\n",
       "      <td>NaN</td>\n",
       "      <td>2020-10-05</td>\n",
       "      <td>NaN</td>\n",
       "      <td>21</td>\n",
       "      <td>http://likms.assembly.go.kr/bill/billDetail.do...</td>\n",
       "      <td>윤재갑의원 등 11인</td>\n",
       "      <td>http://likms.assembly.go.kr/bill/coactorListPo...</td>\n",
       "      <td>윤재갑</td>\n",
       "      <td>강병원,김수흥,서영교,위성곤,이개호,이재정,이정문,전용기,조경태,홍문표</td>\n",
       "    </tr>\n",
       "  </tbody>\n",
       "</table>\n",
       "</div>"
      ],
      "text/plain": [
       "                              BILL_ID  BILL_NO                    BILL_NAME  \\\n",
       "0  PRC_A2T0Z0E9U1I6P1G3P3X9I3B7H7D9C1  2104402   독점규제 및 공정거래에 관한 법률 일부개정법률안   \n",
       "1  PRC_I2M0O1G0U0P5E1U8T4B6Z0R9M8G5X0  2104401           지방교육재정교부금법 일부개정법률안   \n",
       "2  PRC_C2Q0L1M0V0B5G1O8H1N6Z5V0W5W7A7  2104400            농업기계화 촉진법 일부개정법률안   \n",
       "3  PRC_F2A0Q1V0F0S5O1N8W1P6L2Z9T9D6K3  2104399               지방교부세법 일부개정법률안   \n",
       "4  PRC_C2N0L1B0M0O5S1P8T0O6I1O8S4J8O7  2104398  농수산물의 원산지 표시에 관한 법률 일부개정법률안   \n",
       "\n",
       "  COMMITTEE  PROPOSE_DT PROC_RESULT  AGE  \\\n",
       "0       NaN  2020-10-05         NaN   21   \n",
       "1       NaN  2020-10-05         NaN   21   \n",
       "2       NaN  2020-10-05         NaN   21   \n",
       "3       NaN  2020-10-05         NaN   21   \n",
       "4       NaN  2020-10-05         NaN   21   \n",
       "\n",
       "                                         DETAIL_LINK     PROPOSER  \\\n",
       "0  http://likms.assembly.go.kr/bill/billDetail.do...    박홍근의원등12인   \n",
       "1  http://likms.assembly.go.kr/bill/billDetail.do...  서영교의원 등 10인   \n",
       "2  http://likms.assembly.go.kr/bill/billDetail.do...  윤재갑의원 등 11인   \n",
       "3  http://likms.assembly.go.kr/bill/billDetail.do...  서영교의원 등 10인   \n",
       "4  http://likms.assembly.go.kr/bill/billDetail.do...  윤재갑의원 등 11인   \n",
       "\n",
       "                                         MEMBER_LIST RST_PROPOSER  \\\n",
       "0  http://likms.assembly.go.kr/bill/coactorListPo...          박홍근   \n",
       "1  http://likms.assembly.go.kr/bill/coactorListPo...          서영교   \n",
       "2  http://likms.assembly.go.kr/bill/coactorListPo...          윤재갑   \n",
       "3  http://likms.assembly.go.kr/bill/coactorListPo...          서영교   \n",
       "4  http://likms.assembly.go.kr/bill/coactorListPo...          윤재갑   \n",
       "\n",
       "                                 PUBL_PROPOSER  \n",
       "0  김원이,남인순,서영석,송옥주,용혜인,윤미향,이용빈,장경태,정태호,주철현,최종윤  \n",
       "1          김병기,서삼석,신정훈,오영환,윤재갑,이개호,이성만,전혜숙,최형두  \n",
       "2      강병원,김수흥,서영교,위성곤,이개호,이재정,이정문,전용기,조경태,홍문표  \n",
       "3          김병기,신정훈,오영환,윤재갑,윤준병,이개호,이성만,전혜숙,최형두  \n",
       "4      강병원,김수흥,서영교,위성곤,이개호,이재정,이정문,전용기,조경태,홍문표  "
      ]
     },
     "execution_count": 7,
     "metadata": {},
     "output_type": "execute_result"
    }
   ],
   "source": [
    "suggest.head()"
   ]
  },
  {
   "cell_type": "code",
   "execution_count": 8,
   "metadata": {},
   "outputs": [],
   "source": [
    "suggest = suggest.replace({'':np.nan})"
   ]
  },
  {
   "cell_type": "code",
   "execution_count": 9,
   "metadata": {},
   "outputs": [],
   "source": [
    "suggest['year'] = suggest['AGE'].replace({1:'1대(1948~1950)', 2:'2대(1950~1954)', 3:'3대(1954~1958)', 4:'4대(1958~1960)', 5:'5대(1960~1963)',\n",
    "                        6:'6대(1963~1967)', 7:'7대(1967~1971)', 8:'8대(1971~1972)', 9:'9대(1973~1979)', 10:'10대(1979~1980)',\n",
    "                        11:'11대(1981~1985)', 12:'12대(1985~1988)', 13:'13대(1988~1992)', 14:'14대(1992~1996)', 15:'15대(1996~2000)',\n",
    "                        16:'16대(2000~2004)', 17:'17대(2004~2008)', 18:'18대(2008~2012)', 19:'19대(2012~2016)', 20:'20대(2016~2020)',\n",
    "                        21:'21대(2020~2024)'})\n",
    "suggest['PROPOSE_DT'] = pd.to_datetime(suggest['PROPOSE_DT'])"
   ]
  },
  {
   "cell_type": "code",
   "execution_count": 10,
   "metadata": {},
   "outputs": [
    {
     "data": {
      "text/html": [
       "        <script type=\"text/javascript\">\n",
       "        window.PlotlyConfig = {MathJaxConfig: 'local'};\n",
       "        if (window.MathJax) {MathJax.Hub.Config({SVG: {font: \"STIX-Web\"}});}\n",
       "        if (typeof require !== 'undefined') {\n",
       "        require.undef(\"plotly\");\n",
       "        requirejs.config({\n",
       "            paths: {\n",
       "                'plotly': ['https://cdn.plot.ly/plotly-latest.min']\n",
       "            }\n",
       "        });\n",
       "        require(['plotly'], function(Plotly) {\n",
       "            window._Plotly = Plotly;\n",
       "        });\n",
       "        }\n",
       "        </script>\n",
       "        "
      ]
     },
     "metadata": {},
     "output_type": "display_data"
    }
   ],
   "source": [
    "import cufflinks as cf\n",
    "from plotly.offline import download_plotlyjs, init_notebook_mode, plot, iplot \n",
    "\n",
    "cf.go_offline()\n",
    "cf.set_config_file(offline=False, world_readable=True)\n",
    "\n",
    "from matplotlib import pyplot as plt\n",
    "import cv2\n",
    "\n",
    "import networkx as nx\n",
    "import plotly.graph_objects as go\n",
    "import plotly.express as px\n",
    "\n",
    "from collections import Counter\n",
    "from sklearn.feature_extraction.text import CountVectorizer"
   ]
  },
  {
   "cell_type": "code",
   "execution_count": 11,
   "metadata": {},
   "outputs": [],
   "source": [
    "import ipywidgets as widgets\n",
    "from ipywidgets import interact, interact_manual\n",
    "import cufflinks as cf"
   ]
  },
  {
   "cell_type": "code",
   "execution_count": 12,
   "metadata": {},
   "outputs": [
    {
     "data": {
      "text/plain": [
       "JA          5515\n",
       "HO          4222\n",
       "BOOK        3725\n",
       "SANG        3375\n",
       "HOBBY       3308\n",
       "BON         2828\n",
       "POSI        1288\n",
       "HAK            7\n",
       "URL            0\n",
       "DEAD           0\n",
       "BIRTH          0\n",
       "NAME_HAN       0\n",
       "NAME           0\n",
       "DAE_NM         0\n",
       "DAE            0\n",
       "DAESU          0\n",
       "dtype: int64"
      ]
     },
     "execution_count": 12,
     "metadata": {},
     "output_type": "execute_result"
    }
   ],
   "source": [
    "people_raw.isnull().sum(axis = 0).sort_values(ascending = False)\n",
    "# 8개의 columns에서 결측이 관측됨."
   ]
  },
  {
   "cell_type": "code",
   "execution_count": 13,
   "metadata": {},
   "outputs": [
    {
     "data": {
      "text/plain": [
       "(5605, 16)"
      ]
     },
     "execution_count": 13,
     "metadata": {},
     "output_type": "execute_result"
    }
   ],
   "source": [
    "people_raw.shape"
   ]
  },
  {
   "cell_type": "code",
   "execution_count": 14,
   "metadata": {},
   "outputs": [
    {
     "data": {
      "text/plain": [
       "Index(['DAESU', 'DAE', 'DAE_NM', 'NAME', 'NAME_HAN', 'JA', 'HO', 'BIRTH',\n",
       "       'BON', 'POSI', 'HAK', 'HOBBY', 'BOOK', 'SANG', 'DEAD', 'URL'],\n",
       "      dtype='object')"
      ]
     },
     "execution_count": 14,
     "metadata": {},
     "output_type": "execute_result"
    }
   ],
   "source": [
    "people_raw.columns"
   ]
  },
  {
   "cell_type": "code",
   "execution_count": 15,
   "metadata": {},
   "outputs": [
    {
     "data": {
      "image/png": "[encoded data removed]",
      "text/plain": [
       "<Figure size 432x288 with 1 Axes>"
      ]
     },
     "metadata": {
      "needs_background": "light"
     },
     "output_type": "display_data"
    }
   ],
   "source": [
    "sns.barplot(x = people_raw.DAESU.value_counts().index,\n",
    "            y = people_raw.DAESU.value_counts())\n",
    "plt.title('대수')\n",
    "plt.show()"
   ]
  },
  {
   "cell_type": "code",
   "execution_count": 16,
   "metadata": {},
   "outputs": [
    {
     "data": {
      "text/plain": [
       "450"
      ]
     },
     "execution_count": 16,
     "metadata": {},
     "output_type": "execute_result"
    }
   ],
   "source": [
    "len(people_raw[people_raw.DAE.apply(lambda x: '비례대표' in x)])"
   ]
  },
  {
   "cell_type": "code",
   "execution_count": 17,
   "metadata": {},
   "outputs": [
    {
     "data": {
      "text/plain": [
       "5605"
      ]
     },
     "execution_count": 17,
     "metadata": {},
     "output_type": "execute_result"
    }
   ],
   "source": [
    "len(people_raw)"
   ]
  },
  {
   "cell_type": "code",
   "execution_count": 18,
   "metadata": {},
   "outputs": [
    {
     "name": "stdout",
     "output_type": "stream",
     "text": [
      "8.028545941123996 %\n"
     ]
    }
   ],
   "source": [
    "print(len(people_raw[people_raw.DAE.apply(lambda x: '비례대표' in x)]) / len(people_raw) * 100, '%')"
   ]
  },
  {
   "cell_type": "code",
   "execution_count": 19,
   "metadata": {},
   "outputs": [],
   "source": [
    "people_raw['people'] = people_raw.NAME + people_raw.BIRTH"
   ]
  },
  {
   "cell_type": "code",
   "execution_count": 20,
   "metadata": {},
   "outputs": [
    {
     "data": {
      "text/plain": [
       "5605"
      ]
     },
     "execution_count": 20,
     "metadata": {},
     "output_type": "execute_result"
    }
   ],
   "source": [
    "len(people_raw)"
   ]
  },
  {
   "cell_type": "code",
   "execution_count": 21,
   "metadata": {},
   "outputs": [
    {
     "data": {
      "text/plain": [
       "3066"
      ]
     },
     "execution_count": 21,
     "metadata": {},
     "output_type": "execute_result"
    }
   ],
   "source": [
    "len(people_raw['people'].unique())"
   ]
  },
  {
   "cell_type": "code",
   "execution_count": 22,
   "metadata": {},
   "outputs": [
    {
     "name": "stdout",
     "output_type": "stream",
     "text": [
      "54.70115967885816 %\n"
     ]
    }
   ],
   "source": [
    "print(len(people_raw['people'].unique())* 100/len(people_raw),\"%\")"
   ]
  },
  {
   "cell_type": "code",
   "execution_count": 23,
   "metadata": {},
   "outputs": [
    {
     "data": {
      "text/plain": [
       "17         안동\n",
       "18         안동\n",
       "24         선산\n",
       "25         김해\n",
       "31         경주\n",
       "        ...  \n",
       "5491       平山\n",
       "5511       파평\n",
       "5526       전주\n",
       "5534       원주\n",
       "5558    경남 진주\n",
       "Name: BON, Length: 2777, dtype: object"
      ]
     },
     "execution_count": 23,
     "metadata": {},
     "output_type": "execute_result"
    }
   ],
   "source": [
    "people_raw[people_raw['BON'].isnull() != True].BON     ## 출생지역"
   ]
  }
 ],
 "metadata": {
  "kernelspec": {
   "display_name": "Python 3",
   "language": "python",
   "name": "python3"
  },
  "language_info": {
   "codemirror_mode": {
    "name": "ipython",
    "version": 3
   },
   "file_extension": ".py",
   "mimetype": "text/x-python",
   "name": "python",
   "nbconvert_exporter": "python",
   "pygments_lexer": "ipython3",
   "version": "3.8.5"
  }
 },
 "nbformat": 4,
 "nbformat_minor": 4
}
