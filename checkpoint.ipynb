{
 "cells": [
  {
   "cell_type": "markdown",
   "metadata": {},
   "source": [
    "# <span style=\"color:blue\"> *마크다운 사용법*</span>\n",
    "\n",
    "> 시각화 대회 우승자들이 사용했던 모든 Markdown 문법을 담았습니다.\n",
    "> 이것만 알면 나도 시각화 대회 마스터!!"
   ]
  },
  {
   "cell_type": "markdown",
   "metadata": {},
   "source": [
    "# 목차\n",
    "\n",
    "1. 제목   \n",
    "2. 숫자 목록\n",
    "3. 점 목록\n",
    "4. 수평선\n",
    "5. 코드 강조\n",
    "6. 텍스트 강조\n",
    "7. 링크\n",
    "8. 이미지"
   ]
  },
  {
   "cell_type": "markdown",
   "metadata": {},
   "source": [
    "### cf) Markdown이란?\n",
    "\n",
    "> Markdown은 텍스트 기반의 마크업언어로 2004년 존그루버에 의해 만들어졌으며 쉽게 쓰고 읽을 수 있으며 HTML로 변환이 가능하다. 특수기호와 문자를 이용한 매우 간단한 구조의 문법을 사용하여 웹에서도 보다 빠르게 컨텐츠를 작성하고 보다 직관적으로 인식할 수 있다."
   ]
  },
  {
   "cell_type": "markdown",
   "metadata": {},
   "source": [
    "* jupyter notebook에서 Markdown을 작성하기 위해서는 셀을 클릭한 후 표시된 부분을 Code -> Markdown으로 바꿔주시면 됩니다."
   ]
  },
  {
   "cell_type": "markdown",
   "metadata": {},
   "source": [
    "![Md](data:image/png;base64,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)"
   ]
  },
  {
   "cell_type": "markdown",
   "metadata": {},
   "source": [
    "---"
   ]
  },
  {
   "cell_type": "markdown",
   "metadata": {},
   "source": [
    "## 1. 제목"
   ]
  },
  {
   "cell_type": "code",
   "execution_count": null,
   "metadata": {},
   "outputs": [],
   "source": [
    "# 데이콘\n",
    "## 데이콘\n",
    "### 데이콘\n",
    "#### 데이콘\n",
    "##### 데이콘\n",
    "###### 데이콘"
   ]
  },
  {
   "cell_type": "markdown",
   "metadata": {},
   "source": [
    "##### >>>>>마크다운 변환 중....."
   ]
  },
  {
   "cell_type": "markdown",
   "metadata": {},
   "source": [
    "# 데이콘\n",
    "## 데이콘\n",
    "### 데이콘\n",
    "#### 데이콘\n",
    "##### 데이콘\n",
    "###### 데이콘"
   ]
  },
  {
   "cell_type": "markdown",
   "metadata": {},
   "source": [
    "---"
   ]
  },
  {
   "cell_type": "markdown",
   "metadata": {},
   "source": [
    "## 2.숫자 목록"
   ]
  },
  {
   "cell_type": "code",
   "execution_count": null,
   "metadata": {},
   "outputs": [],
   "source": [
    "1. 목록1\n",
    "    1. 목록 1-1\n",
    "        1. 목록 1-1-1\n",
    "\n",
    "\n",
    "2. 목록2"
   ]
  },
  {
   "cell_type": "markdown",
   "metadata": {},
   "source": [
    "##### >>>>>마크다운 변환 중....."
   ]
  },
  {
   "cell_type": "markdown",
   "metadata": {},
   "source": [
    "1. 목록1\n",
    "    1. 목록 1-1\n",
    "        1. 목록 1-1-1\n",
    "        \n",
    "        \n",
    "2. 목록2"
   ]
  },
  {
   "cell_type": "markdown",
   "metadata": {},
   "source": [
    "## 3.점 목록"
   ]
  },
  {
   "cell_type": "code",
   "execution_count": null,
   "metadata": {},
   "outputs": [],
   "source": [
    "* 점 목록1\n",
    "    + 점 목록2\n",
    "        - 점 목록3"
   ]
  },
  {
   "cell_type": "markdown",
   "metadata": {},
   "source": [
    "##### >>>>>마크다운 변환 중....."
   ]
  },
  {
   "cell_type": "markdown",
   "metadata": {},
   "source": [
    "* 점 목록1\n",
    "    + 점 목록2\n",
    "        - 점 목록3"
   ]
  },
  {
   "cell_type": "markdown",
   "metadata": {},
   "source": [
    "---"
   ]
  },
  {
   "cell_type": "markdown",
   "metadata": {},
   "source": [
    "## 4.수평선"
   ]
  },
  {
   "cell_type": "code",
   "execution_count": null,
   "metadata": {},
   "outputs": [],
   "source": [
    "-----------------------\n",
    "***********************\n",
    "<hr/>"
   ]
  },
  {
   "cell_type": "markdown",
   "metadata": {},
   "source": [
    "##### >>>>>마크다운 변환 중....."
   ]
  },
  {
   "cell_type": "markdown",
   "metadata": {},
   "source": [
    "-----------------------\n",
    "***********************\n",
    "<hr/>"
   ]
  },
  {
   "cell_type": "markdown",
   "metadata": {},
   "source": [
    "## 5.코드 강조"
   ]
  },
  {
   "cell_type": "code",
   "execution_count": null,
   "metadata": {},
   "outputs": [],
   "source": [
    "코드 강조는 `양 옆에 따옴표를 붙이시면` 됩니다."
   ]
  },
  {
   "cell_type": "markdown",
   "metadata": {},
   "source": [
    "##### >>>>>마크다운 변환 중....."
   ]
  },
  {
   "cell_type": "markdown",
   "metadata": {},
   "source": [
    "코드 강조는 `양 옆에 따옴표를 붙이시면` 됩니다."
   ]
  },
  {
   "cell_type": "code",
   "execution_count": null,
   "metadata": {},
   "outputs": [],
   "source": [
    "```python\n",
    "\n",
    "H = \"Hello World!\"\n",
    "print(H)\n",
    "\n",
    "```"
   ]
  },
  {
   "cell_type": "markdown",
   "metadata": {},
   "source": [
    "##### >>>>>마크다운 변환 중....."
   ]
  },
  {
   "cell_type": "markdown",
   "metadata": {},
   "source": [
    "```python\n",
    "\n",
    "H = \"Hello World!\"\n",
    "print(H)\n",
    "\n",
    "```"
   ]
  },
  {
   "cell_type": "markdown",
   "metadata": {},
   "source": [
    "## 6.텍스트 강조"
   ]
  },
  {
   "cell_type": "code",
   "execution_count": null,
   "metadata": {},
   "outputs": [],
   "source": [
    "이텔릭체는 *별표(asterisks)* 를 사용하세요.\n",
    "\n",
    "\n",
    "두껍게는 **별표(asterisks)**를 사용하세요.\n",
    "\n",
    "\n",
    "취소선은 ~~물결표시~~를 사용하세요.\n",
    "\n",
    "\n",
    "<u>밑줄</u>은 `<u></u>`를 사용하세요.\n",
    "\n",
    "<span style=\"color:blue\"> 글자 색은 이렇게 넣으세요</span>"
   ]
  },
  {
   "cell_type": "markdown",
   "metadata": {},
   "source": [
    "##### >>>>>마크다운 변환 중....."
   ]
  },
  {
   "cell_type": "markdown",
   "metadata": {},
   "source": [
    "이텔릭체는 *별표(asterisks)* 를 사용하세요.\n",
    "\n",
    "\n",
    "두껍게는 **별표(asterisks)**를 사용하세요.\n",
    "\n",
    "\n",
    "취소선은 ~~물결표시~~를 사용하세요.\n",
    "\n",
    "\n",
    "<u>밑줄</u>은 `<u></u>`를 사용하세요.\n",
    "\n",
    "<span style=\"color:blue\"> 글자 색은 이렇게 넣으세요</span>"
   ]
  },
  {
   "cell_type": "markdown",
   "metadata": {},
   "source": [
    "---"
   ]
  },
  {
   "cell_type": "markdown",
   "metadata": {},
   "source": [
    "## 7.링크\n",
    "\n",
    "> 기본 문법: [링크 표시 이름](링크 주소)"
   ]
  },
  {
   "cell_type": "code",
   "execution_count": null,
   "metadata": {},
   "outputs": [],
   "source": [
    "[Dacon](https://dacon.io/)"
   ]
  },
  {
   "cell_type": "markdown",
   "metadata": {},
   "source": [
    "##### >>>>>마크다운 변환 중....."
   ]
  },
  {
   "cell_type": "markdown",
   "metadata": {},
   "source": [
    "[Dacon](https://dacon.io/)"
   ]
  },
  {
   "cell_type": "markdown",
   "metadata": {},
   "source": [
    "---"
   ]
  },
  {
   "cell_type": "markdown",
   "metadata": {},
   "source": [
    "## 8.이미지\n",
    "\n",
    "> 이미지를 해당 노트북과 같은 경로에 위치시키시면 됩니다.\n",
    "\n",
    "> 기본 문법: ![이미지 이름](이미지 경로)"
   ]
  },
  {
   "cell_type": "code",
   "execution_count": null,
   "metadata": {},
   "outputs": [],
   "source": [
    "![Dacon](https://search.pstatic.net/common/?src=http%3A%2F%2Fimgnews.naver.net%2Fimage%2F421%2F2020%2F06%2F04%2F0004676205_002_20200604094206740.jpg&type=sc960_832)"
   ]
  },
  {
   "cell_type": "markdown",
   "metadata": {},
   "source": [
    "![Dacon](https://search.pstatic.net/common/?src=http%3A%2F%2Fimgnews.naver.net%2Fimage%2F421%2F2020%2F06%2F04%2F0004676205_002_20200604094206740.jpg&type=sc960_832)"
   ]
  },
  {
   "cell_type": "markdown",
   "metadata": {},
   "source": [
    "### *크기 조절은 다음과 같이 진행"
   ]
  },
  {
   "cell_type": "code",
   "execution_count": null,
   "metadata": {},
   "outputs": [],
   "source": [
    "<img src=\"https://search.pstatic.net/common/?src=http%3A%2F%2Fimgnews.naver.net%2Fimage%2F421%2F2020%2F06%2F04%2F0004676205_002_20200604094206740.jpg&type=sc960_832\" width=\"150px\" height=\"150px\"></img><br/>"
   ]
  },
  {
   "cell_type": "markdown",
   "metadata": {},
   "source": [
    "<img src=\"https://search.pstatic.net/common/?src=http%3A%2F%2Fimgnews.naver.net%2Fimage%2F421%2F2020%2F06%2F04%2F0004676205_002_20200604094206740.jpg&type=sc960_832\" width=\"150px\" height=\"150px\"></img><br/>"
   ]
  },
  {
   "cell_type": "code",
   "execution_count": null,
   "metadata": {},
   "outputs": [],
   "source": []
  }
 ],
 "metadata": {
  "kernelspec": {
   "display_name": "Python 3",
   "language": "python",
   "name": "python3"
  },
  "language_info": {
   "codemirror_mode": {
    "name": "ipython",
    "version": 3
   },
   "file_extension": ".py",
   "mimetype": "text/x-python",
   "name": "python",
   "nbconvert_exporter": "python",
   "pygments_lexer": "ipython3",
   "version": "3.8.5"
  }
 },
 "nbformat": 4,
 "nbformat_minor": 4
}
